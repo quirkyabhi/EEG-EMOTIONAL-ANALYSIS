{
  "nbformat": 4,
  "nbformat_minor": 0,
  "metadata": {
    "colab": {
      "name": "emotion1.ipynb",
      "version": "0.3.2",
      "provenance": [],
      "collapsed_sections": [],
      "include_colab_link": true
    },
    "language_info": {
      "codemirror_mode": {
        "name": "ipython",
        "version": 3
      },
      "file_extension": ".py",
      "mimetype": "text/x-python",
      "name": "python",
      "nbconvert_exporter": "python",
      "pygments_lexer": "ipython3",
      "version": "3.6.5"
    },
    "kernelspec": {
      "name": "python3",
      "display_name": "Python 3"
    },
    "accelerator": "GPU"
  },
  "cells": [
    {
      "cell_type": "markdown",
      "metadata": {
        "id": "view-in-github",
        "colab_type": "text"
      },
      "source": [
        "<a href=\"https://colab.research.google.com/github/quirkyabhi/EEG-EMOTIONAL-ANALYSIS/blob/master/codes/emotion1.ipynb\" target=\"_parent\"><img src=\"https://colab.research.google.com/assets/colab-badge.svg\" alt=\"Open In Colab\"/></a>"
      ]
    },
    {
      "cell_type": "code",
      "metadata": {
        "id": "dpoBKXSyBbkQ",
        "colab_type": "code",
        "colab": {}
      },
      "source": [
        "import pandas as pd\n",
        "import numpy as np\n",
        "import seaborn as sns\n",
        "import matplotlib.pyplot as plt\n",
        "from sklearn.model_selection import train_test_split #to create validation data set\n",
        "\n",
        "from sklearn.ensemble import RandomForestClassifier\n",
        "from sklearn.metrics import make_scorer, accuracy_score\n",
        "from sklearn.model_selection import GridSearchCV\n",
        "from xgboost import XGBClassifier\n",
        "from sklearn import preprocessing"
      ],
      "execution_count": 0,
      "outputs": []
    },
    {
      "cell_type": "code",
      "metadata": {
        "id": "ylLF_pgABbkW",
        "colab_type": "code",
        "outputId": "d1aed35d-40b6-4d29-d274-2bfd031bdbe1",
        "colab": {
          "base_uri": "https://localhost:8080/",
          "height": 1000
        }
      },
      "source": [
        "df=pd.read_csv('features1.csv', header=None)\n",
        "\n",
        "def clean(df):\n",
        "  assert isinstance(df , pd.DataFrame) \n",
        "  df.dropna(inplace=True)\n",
        "  indices= ~df.isin([np.nan,np.inf,-np.inf]).any(1)\n",
        "  return df[indices].astype(np.float64)\n",
        "df= clean(df)\n",
        "\n",
        "df=df.reset_index()\n",
        "X_train=df.iloc[:,:-1]\n",
        "X_train=preprocessing.scale(X_train)\n",
        "y_train=df.iloc[:,-1]\n",
        "X_train.shape\n",
        "# y_train.shape\n",
        "print(\"Training Data Frame\")\n",
        "# print(pd.isnull(df).sum())\n",
        "type(df)\n",
        "print(X_train.shape)\n",
        "print(y_train.shape)\n",
        "y_train"
      ],
      "execution_count": 0,
      "outputs": [
        {
          "output_type": "stream",
          "text": [
            "Training Data Frame\n",
            "(1276, 73)\n",
            "(1276,)\n"
          ],
          "name": "stdout"
        },
        {
          "output_type": "execute_result",
          "data": {
            "text/plain": [
              "0       1.0\n",
              "1       1.0\n",
              "2       1.0\n",
              "3       1.0\n",
              "4       0.0\n",
              "5       0.0\n",
              "6       0.0\n",
              "7       0.0\n",
              "8       0.0\n",
              "9       0.0\n",
              "10      0.0\n",
              "11      0.0\n",
              "12      0.0\n",
              "13      0.0\n",
              "14      1.0\n",
              "15      1.0\n",
              "16      1.0\n",
              "17      1.0\n",
              "18      1.0\n",
              "19      1.0\n",
              "20      1.0\n",
              "21      0.0\n",
              "22      0.0\n",
              "23      1.0\n",
              "24      1.0\n",
              "25      1.0\n",
              "26      1.0\n",
              "27      0.0\n",
              "28      0.0\n",
              "29      0.0\n",
              "       ... \n",
              "1246    1.0\n",
              "1247    0.0\n",
              "1248    0.0\n",
              "1249    1.0\n",
              "1250    0.0\n",
              "1251    1.0\n",
              "1252    1.0\n",
              "1253    1.0\n",
              "1254    1.0\n",
              "1255    0.0\n",
              "1256    1.0\n",
              "1257    1.0\n",
              "1258    1.0\n",
              "1259    1.0\n",
              "1260    1.0\n",
              "1261    0.0\n",
              "1262    1.0\n",
              "1263    1.0\n",
              "1264    1.0\n",
              "1265    1.0\n",
              "1266    1.0\n",
              "1267    1.0\n",
              "1268    0.0\n",
              "1269    1.0\n",
              "1270    1.0\n",
              "1271    1.0\n",
              "1272    1.0\n",
              "1273    1.0\n",
              "1274    1.0\n",
              "1275    0.0\n",
              "Name: 72, Length: 1276, dtype: float64"
            ]
          },
          "metadata": {
            "tags": []
          },
          "execution_count": 104
        }
      ]
    },
    {
      "cell_type": "code",
      "metadata": {
        "id": "1aKXHu5SBbkb",
        "colab_type": "code",
        "colab": {}
      },
      "source": [
        "X_training, X_valid, y_training, y_valid = train_test_split(X_train, y_train, test_size=0.20, random_state=0)"
      ],
      "execution_count": 0,
      "outputs": []
    },
    {
      "cell_type": "code",
      "metadata": {
        "id": "QNUkNHICBbke",
        "colab_type": "code",
        "outputId": "ab00034f-7970-47d9-b0ec-9fd8b5412d2b",
        "colab": {
          "base_uri": "https://localhost:8080/",
          "height": 92
        }
      },
      "source": [
        "rf_clf = RandomForestClassifier()\n",
        "rf_clf.fit(X_training, y_training)\n",
        "pred_rf = rf_clf.predict(X_valid)\n",
        "acc_rf = accuracy_score(y_valid, pred_rf)\n",
        "print(acc_rf)\n",
        "# pred_rf"
      ],
      "execution_count": 0,
      "outputs": [
        {
          "output_type": "stream",
          "text": [
            "0.5390625\n"
          ],
          "name": "stdout"
        },
        {
          "output_type": "stream",
          "text": [
            "/usr/local/lib/python3.6/dist-packages/sklearn/ensemble/forest.py:245: FutureWarning: The default value of n_estimators will change from 10 in version 0.20 to 100 in 0.22.\n",
            "  \"10 in version 0.20 to 100 in 0.22.\", FutureWarning)\n"
          ],
          "name": "stderr"
        }
      ]
    },
    {
      "cell_type": "code",
      "metadata": {
        "id": "qq4DU-xiBbkh",
        "colab_type": "code",
        "outputId": "4c95a211-8238-43bb-8ece-1d9fbc147f6c",
        "colab": {
          "base_uri": "https://localhost:8080/",
          "height": 74
        }
      },
      "source": [
        "rf_clf = RandomForestClassifier()\n",
        "\n",
        "parameters = {\"n_estimators\": [4, 5, 6, 7, 8, 9, 10, 15], \n",
        "              \"criterion\": [\"gini\", \"entropy\"],\n",
        "              \"max_features\": [\"auto\", \"sqrt\", \"log2\"], \n",
        "              \"max_depth\": [2, 3, 5, 10], \n",
        "              \"min_samples_split\": [2, 3, 5, 10],\n",
        "              \"min_samples_leaf\": [1, 5, 8, 10]\n",
        "             }\n",
        "\n",
        "grid_cv = GridSearchCV(rf_clf, parameters, scoring = make_scorer(accuracy_score))\n",
        "grid_cv = grid_cv.fit(X_training, y_training)\n",
        "\n",
        "print(\"Our optimized Random Forest model is:\")\n",
        "grid_cv.best_estimator_"
      ],
      "execution_count": 0,
      "outputs": [
        {
          "output_type": "stream",
          "text": [
            "/usr/local/lib/python3.6/dist-packages/sklearn/model_selection/_split.py:1978: FutureWarning: The default value of cv will change from 3 to 5 in version 0.22. Specify it explicitly to silence this warning.\n",
            "  warnings.warn(CV_WARNING, FutureWarning)\n"
          ],
          "name": "stderr"
        }
      ]
    },
    {
      "cell_type": "code",
      "metadata": {
        "id": "-h-ymjUOBbkl",
        "colab_type": "code",
        "colab": {}
      },
      "source": [
        "rf_clf = grid_cv.best_estimator_\n",
        "rf_clf.fit(X_train, y_train)\n",
        "pred_rf = rf_clf.predict(X_valid)\n",
        "acc_rf = accuracy_score(y_valid, pred_rf)\n",
        "print(acc_rf)"
      ],
      "execution_count": 0,
      "outputs": []
    },
    {
      "cell_type": "code",
      "metadata": {
        "id": "VcM76NKiBbkp",
        "colab_type": "code",
        "colab": {}
      },
      "source": [
        "acc_rf = accuracy_score(y_valid, pred_rf)\n",
        "acc_rf"
      ],
      "execution_count": 0,
      "outputs": []
    },
    {
      "cell_type": "code",
      "metadata": {
        "id": "UaQWO7lWJDsL",
        "colab_type": "code",
        "colab": {}
      },
      "source": [
        "from sklearn import svm\n",
        "from sklearn.model_selection import GridSearchCV\n",
        "X,y, nfolds= X_train, y_train,10\n",
        "def svc_param_selection(X, y, nfolds):\n",
        "  Cs = [2**-10,2**-8,2**-6,2**-4,2**-2,2**0,2**2,2**4,2**6,2**8,2**10]\n",
        "  gammas = [2**-10,2**-8,2**-6,2**-4,2**-2,2**0,2**2,2**4,2**6,2**8,2**10]\n",
        "  param_grid = {'C': Cs, 'gamma' : gammas}\n",
        "  grid_search = GridSearchCV(svm.SVC(kernel='rbf'), param_grid, cv=nfolds)\n",
        "  grid_search.fit(X, y)\n",
        "  grid_search.best_params_\n",
        "  return grid_search\n",
        "s= svc_param_selection(X, y, nfolds)"
      ],
      "execution_count": 0,
      "outputs": []
    },
    {
      "cell_type": "code",
      "metadata": {
        "id": "OY82cnHuKSDU",
        "colab_type": "code",
        "colab": {}
      },
      "source": [
        "s"
      ],
      "execution_count": 0,
      "outputs": []
    },
    {
      "cell_type": "code",
      "metadata": {
        "id": "8hn1vWZUOOlp",
        "colab_type": "code",
        "colab": {}
      },
      "source": [
        "# # !pip install scikit_multilearn\n",
        "# from skmultilearn.problem_transform import LabelPowerset\n",
        "# from sklearn.naive_bayes import GaussianNB\n",
        "\n",
        "# # initialize Label Powerset multi-label classifier\n",
        "# # with a gaussian naive bayes base classifier\n",
        "# classifier = LabelPowerset(GaussianNB())\n",
        "\n",
        "# # train\n",
        "# classifier.fit(X_train, y_train)\n",
        "\n",
        "# # predict\n",
        "# predictions = classifier.predict(X_valid)\n",
        "\n",
        "# accuracy_score(y_valid,predictions)\n"
      ],
      "execution_count": 0,
      "outputs": []
    },
    {
      "cell_type": "code",
      "metadata": {
        "id": "sreSp4KYNkfi",
        "colab_type": "code",
        "colab": {}
      },
      "source": [
        "s.fit(X_training,y_training)\n",
        "pred_rf = s.predict(X_training)\n",
        "acc_rf = accuracy_score(y_training, pred_rf)\n",
        "print(acc_rf)"
      ],
      "execution_count": 0,
      "outputs": []
    },
    {
      "cell_type": "code",
      "metadata": {
        "id": "MYwkgyCqUhx4",
        "colab_type": "code",
        "colab": {}
      },
      "source": [
        "acc_rf"
      ],
      "execution_count": 0,
      "outputs": []
    },
    {
      "cell_type": "code",
      "metadata": {
        "id": "pcaOca4jVp3E",
        "colab_type": "code",
        "colab": {}
      },
      "source": [
        ""
      ],
      "execution_count": 0,
      "outputs": []
    }
  ]
}