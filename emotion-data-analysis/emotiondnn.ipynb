{
 "cells": [
  {
   "cell_type": "code",
   "execution_count": 1,
   "metadata": {
    "colab": {},
    "colab_type": "code",
    "id": "ygnw_etYtXhr"
   },
   "outputs": [
    {
     "name": "stderr",
     "output_type": "stream",
     "text": [
      "/home/satish/anaconda3/lib/python3.6/site-packages/h5py/__init__.py:36: FutureWarning: Conversion of the second argument of issubdtype from `float` to `np.floating` is deprecated. In future, it will be treated as `np.float64 == np.dtype(float).type`.\n",
      "  from ._conv import register_converters as _register_converters\n",
      "Using TensorFlow backend.\n"
     ]
    }
   ],
   "source": [
    "from keras import backend as K\n",
    "K.set_image_dim_ordering('tf')\n",
    "import os\n",
    "import tensorflow as tf\n",
    "import numpy as np\n",
    "import scipy.io\n",
    "import time\n",
    "import datetime\n",
    "import pandas as pd\n",
    "\n",
    "from sklearn.model_selection import train_test_split, StratifiedKFold\n",
    "\n",
    "from scipy.interpolate import griddata\n",
    "from sklearn.preprocessing import scale\n",
    "from functools import reduce\n",
    "from keras.layers import Conv3D, MaxPool3D, Flatten, Dense, Conv2D, MaxPooling2D, Conv1D, MaxPool1D\n",
    "from keras.models import Sequential\n",
    "from keras.layers import Dropout, Input, BatchNormalization\n",
    "from sklearn.metrics import confusion_matrix, accuracy_score\n",
    "# from plotly.offline import iplot, init_notebook_mode\n",
    "from keras.losses import categorical_crossentropy\n",
    "from keras.optimizers import Adadelta\n",
    "# import plotly.graph_objs as go\n",
    "# from matplotlib.pyplot import cm\n",
    "# from keras.models import Model\n",
    "import numpy as np\n",
    "from sklearn.pipeline import Pipeline\n",
    "\n",
    "import keras\n",
    "# import h5py\n",
    "from keras.utils import to_categorical\n",
    "from sklearn.model_selection import cross_val_score\n",
    "from keras.wrappers.scikit_learn import KerasClassifier"
   ]
  },
  {
   "cell_type": "code",
   "execution_count": 2,
   "metadata": {
    "colab": {},
    "colab_type": "code",
    "id": "bNmKjqobt5b_"
   },
   "outputs": [],
   "source": [
    "df=pd.read_csv('emotions.csv')"
   ]
  },
  {
   "cell_type": "code",
   "execution_count": 3,
   "metadata": {
    "colab": {},
    "colab_type": "code",
    "id": "FoLWSWg_t-Pw"
   },
   "outputs": [],
   "source": [
    "df['label'].replace(['POSITIVE', 'NEUTRAL','NEGATIVE'],[2,1,0], inplace= True ) "
   ]
  },
  {
   "cell_type": "code",
   "execution_count": 4,
   "metadata": {
    "colab": {
     "base_uri": "https://localhost:8080/",
     "height": 102
    },
    "colab_type": "code",
    "id": "idp2MX0UuFc0",
    "outputId": "12c21af9-67b8-44a2-857e-7afb8c97a0fb"
   },
   "outputs": [
    {
     "name": "stdout",
     "output_type": "stream",
     "text": [
      "<class 'pandas.core.frame.DataFrame'>\n",
      "RangeIndex: 2132 entries, 0 to 2131\n",
      "Columns: 2548 entries, # mean_0_a to fft_749_b\n",
      "dtypes: float64(2548)\n",
      "memory usage: 41.4 MB\n"
     ]
    }
   ],
   "source": [
    "dftrain=df.iloc[:,:-1]\n",
    "dftest=df.iloc[:,-1]\n",
    "dftrain.info()"
   ]
  },
  {
   "cell_type": "code",
   "execution_count": 5,
   "metadata": {
    "colab": {},
    "colab_type": "code",
    "id": "1mdJDhR6uFfE"
   },
   "outputs": [],
   "source": [
    "dftrain=np.asarray(df)\n",
    "dftest=np.asarray(dftest)"
   ]
  },
  {
   "cell_type": "code",
   "execution_count": 23,
   "metadata": {
    "colab": {},
    "colab_type": "code",
    "id": "tSZI4VlDuFhb"
   },
   "outputs": [],
   "source": [
    "def make_model():\n",
    "  n_cols = dftrain.shape[1]\n",
    "  model_mc = Sequential()\n",
    "\n",
    "  #add model layers\n",
    "  model_mc.add(Dense(100, activation='relu', input_shape=(n_cols,)))\n",
    "#   model_mc.add(BatchNormalization())\n",
    "  model_mc.add(Dense(100, activation='relu'))\n",
    "  model_mc.add(Dense(100, activation='relu'))\n",
    "#   model_mc.add(Dense(320, activation='relu'))\n",
    "#   model_mc.add(Dense(160, activation='relu'))\n",
    "#   model_mc.add(Dense(28, activation='relu'))\n",
    "  model_mc.add(Dense(1))\n",
    "\n",
    "  #compile model using mse as a measure of model performance\n",
    "  model_mc.compile(optimizer='adam', loss='binary_crossentropy', metrics=['accuracy'])\n",
    "  #train model\n",
    "#   model_mc.fit(X_train, y_train, validation_split=0.2, epochs=30, )\n",
    "  return model_mc"
   ]
  },
  {
   "cell_type": "code",
   "execution_count": null,
   "metadata": {
    "colab": {
     "base_uri": "https://localhost:8080/",
     "height": 105
    },
    "colab_type": "code",
    "id": "BRvALXXmuFj1",
    "outputId": "c6ca38e8-661a-490c-f877-33d652583eb9"
   },
   "outputs": [
    {
     "name": "stdout",
     "output_type": "stream",
     "text": [
      "Epoch 1/100\n",
      "1918/1918 [==============================] - 2s 801us/step - loss: 15.6993 - acc: 0.0000e+00\n",
      "Epoch 2/100\n",
      "1918/1918 [==============================] - 0s 69us/step - loss: 15.6993 - acc: 0.0000e+00\n",
      "Epoch 3/100\n",
      "1918/1918 [==============================] - 0s 73us/step - loss: 15.6993 - acc: 0.0000e+00\n",
      "Epoch 4/100\n",
      "1918/1918 [==============================] - 0s 70us/step - loss: 15.6993 - acc: 0.0000e+00\n",
      "Epoch 5/100\n",
      "1918/1918 [==============================] - 0s 77us/step - loss: 15.6993 - acc: 0.0000e+00\n",
      "Epoch 6/100\n",
      "1918/1918 [==============================] - 0s 76us/step - loss: 15.6993 - acc: 0.0000e+00\n",
      "Epoch 7/100\n",
      "1918/1918 [==============================] - 0s 71us/step - loss: 15.6993 - acc: 0.0000e+00\n",
      "Epoch 8/100\n",
      "1918/1918 [==============================] - 0s 73us/step - loss: 15.6993 - acc: 0.0000e+00\n",
      "Epoch 9/100\n",
      "1918/1918 [==============================] - 0s 77us/step - loss: 15.6993 - acc: 0.0000e+00\n",
      "Epoch 10/100\n",
      "1918/1918 [==============================] - 0s 76us/step - loss: 15.6993 - acc: 0.0000e+00\n",
      "Epoch 11/100\n",
      "1918/1918 [==============================] - 0s 72us/step - loss: 15.6993 - acc: 0.0000e+00\n",
      "Epoch 12/100\n",
      "1918/1918 [==============================] - 0s 73us/step - loss: 15.6993 - acc: 0.0000e+00\n",
      "Epoch 13/100\n",
      "1918/1918 [==============================] - 0s 73us/step - loss: 15.6993 - acc: 0.0000e+00\n",
      "Epoch 14/100\n",
      "1918/1918 [==============================] - 0s 80us/step - loss: 15.6993 - acc: 0.0000e+00\n",
      "Epoch 15/100\n",
      "1918/1918 [==============================] - 0s 71us/step - loss: 15.6993 - acc: 0.0000e+00\n",
      "Epoch 16/100\n",
      "1918/1918 [==============================] - 0s 78us/step - loss: 15.6993 - acc: 0.0000e+00\n",
      "Epoch 17/100\n",
      "1918/1918 [==============================] - 0s 91us/step - loss: 15.6993 - acc: 0.0000e+00\n",
      "Epoch 18/100\n",
      "1918/1918 [==============================] - 0s 77us/step - loss: 15.6993 - acc: 0.0000e+00\n",
      "Epoch 19/100\n",
      "1918/1918 [==============================] - 0s 74us/step - loss: 15.6993 - acc: 0.0000e+00\n",
      "Epoch 20/100\n",
      "1918/1918 [==============================] - 0s 71us/step - loss: 15.6993 - acc: 0.0000e+00\n",
      "Epoch 21/100\n",
      "1918/1918 [==============================] - 0s 76us/step - loss: 15.6993 - acc: 0.0000e+00\n",
      "Epoch 22/100\n",
      "1918/1918 [==============================] - 0s 74us/step - loss: 15.6993 - acc: 0.0000e+00\n",
      "Epoch 23/100\n",
      "1918/1918 [==============================] - 0s 74us/step - loss: 15.6993 - acc: 0.0000e+00\n",
      "Epoch 24/100\n",
      "1918/1918 [==============================] - 0s 73us/step - loss: 15.6993 - acc: 0.0000e+00\n",
      "Epoch 25/100\n",
      "1918/1918 [==============================] - 0s 75us/step - loss: 15.6993 - acc: 0.0000e+00\n",
      "Epoch 26/100\n",
      "1918/1918 [==============================] - 0s 73us/step - loss: 15.6993 - acc: 0.0000e+00\n",
      "Epoch 27/100\n",
      "1918/1918 [==============================] - 0s 74us/step - loss: 15.6993 - acc: 0.0000e+00\n",
      "Epoch 28/100\n",
      "1918/1918 [==============================] - 0s 73us/step - loss: 15.6993 - acc: 0.0000e+00\n",
      "Epoch 29/100\n",
      "1918/1918 [==============================] - 0s 79us/step - loss: 15.6993 - acc: 0.0000e+00\n",
      "Epoch 30/100\n",
      "1918/1918 [==============================] - 0s 72us/step - loss: 15.6993 - acc: 0.0000e+00\n",
      "Epoch 31/100\n",
      "1918/1918 [==============================] - 0s 72us/step - loss: 15.6993 - acc: 0.0000e+00\n",
      "Epoch 32/100\n",
      "1918/1918 [==============================] - 0s 76us/step - loss: 15.6993 - acc: 0.0000e+00\n",
      "Epoch 33/100\n",
      "1918/1918 [==============================] - 0s 70us/step - loss: 15.6993 - acc: 0.0000e+00\n",
      "Epoch 34/100\n",
      "1918/1918 [==============================] - 0s 71us/step - loss: 15.6993 - acc: 0.0000e+00\n",
      "Epoch 35/100\n",
      "1918/1918 [==============================] - 0s 75us/step - loss: 15.6993 - acc: 0.0000e+00\n",
      "Epoch 36/100\n",
      "1918/1918 [==============================] - 0s 68us/step - loss: 15.6993 - acc: 0.0000e+00\n",
      "Epoch 37/100\n",
      "1918/1918 [==============================] - 0s 74us/step - loss: 15.6993 - acc: 0.0000e+00\n",
      "Epoch 38/100\n",
      "1918/1918 [==============================] - 0s 74us/step - loss: 15.6993 - acc: 0.0000e+00\n",
      "Epoch 39/100\n",
      "1918/1918 [==============================] - 0s 77us/step - loss: 15.6993 - acc: 0.0000e+00\n",
      "Epoch 40/100\n",
      "1918/1918 [==============================] - 0s 73us/step - loss: 15.6993 - acc: 0.0000e+00\n",
      "Epoch 41/100\n",
      "1918/1918 [==============================] - 0s 68us/step - loss: 15.6993 - acc: 0.0000e+00\n",
      "Epoch 42/100\n",
      "1918/1918 [==============================] - 0s 73us/step - loss: 15.6993 - acc: 0.0000e+00\n",
      "Epoch 43/100\n",
      "1918/1918 [==============================] - 0s 72us/step - loss: 15.6993 - acc: 0.0000e+00\n",
      "Epoch 44/100\n",
      "1918/1918 [==============================] - 0s 76us/step - loss: 15.6993 - acc: 0.0000e+00\n",
      "Epoch 45/100\n",
      "1918/1918 [==============================] - 0s 71us/step - loss: 15.6993 - acc: 0.0000e+00\n",
      "Epoch 46/100\n",
      "1918/1918 [==============================] - 0s 76us/step - loss: 15.6993 - acc: 0.0000e+00\n",
      "Epoch 47/100\n",
      "1918/1918 [==============================] - 0s 75us/step - loss: 15.6993 - acc: 0.0000e+00\n",
      "Epoch 48/100\n",
      "1918/1918 [==============================] - 0s 71us/step - loss: 15.6993 - acc: 0.0000e+00\n",
      "Epoch 49/100\n",
      "1918/1918 [==============================] - 0s 73us/step - loss: 15.6993 - acc: 0.0000e+00\n",
      "Epoch 50/100\n",
      "1918/1918 [==============================] - 0s 71us/step - loss: 15.6993 - acc: 0.0000e+00\n",
      "Epoch 51/100\n",
      "1918/1918 [==============================] - 0s 66us/step - loss: 15.6993 - acc: 0.0000e+00\n",
      "Epoch 52/100\n",
      "1918/1918 [==============================] - 0s 71us/step - loss: 15.6993 - acc: 0.0000e+00\n",
      "Epoch 53/100\n",
      "1918/1918 [==============================] - 0s 73us/step - loss: 15.6993 - acc: 0.0000e+00\n",
      "Epoch 54/100\n",
      "1918/1918 [==============================] - 0s 72us/step - loss: 15.6993 - acc: 0.0000e+00\n",
      "Epoch 55/100\n",
      "1918/1918 [==============================] - 0s 73us/step - loss: 15.6993 - acc: 0.0000e+00\n",
      "Epoch 56/100\n",
      "1918/1918 [==============================] - 0s 71us/step - loss: 15.6993 - acc: 0.0000e+00\n",
      "Epoch 57/100\n",
      "1918/1918 [==============================] - 0s 69us/step - loss: 15.6993 - acc: 0.0000e+00\n",
      "Epoch 58/100\n",
      "1918/1918 [==============================] - 0s 74us/step - loss: 15.6993 - acc: 0.0000e+00\n",
      "Epoch 59/100\n",
      "1918/1918 [==============================] - 0s 74us/step - loss: 15.6993 - acc: 0.0000e+00\n",
      "Epoch 60/100\n",
      "1918/1918 [==============================] - 0s 72us/step - loss: 15.6993 - acc: 0.0000e+00\n",
      "Epoch 61/100\n",
      "1918/1918 [==============================] - 0s 68us/step - loss: 15.6993 - acc: 0.0000e+00\n",
      "Epoch 62/100\n",
      "1918/1918 [==============================] - 0s 71us/step - loss: 15.6993 - acc: 0.0000e+00\n",
      "Epoch 63/100\n",
      "1918/1918 [==============================] - 0s 75us/step - loss: 15.6993 - acc: 0.0000e+00\n",
      "Epoch 64/100\n",
      "1918/1918 [==============================] - 0s 79us/step - loss: 15.6993 - acc: 0.0000e+00\n",
      "Epoch 65/100\n",
      "1918/1918 [==============================] - 0s 75us/step - loss: 15.6993 - acc: 0.0000e+00\n",
      "Epoch 66/100\n",
      "1918/1918 [==============================] - 0s 75us/step - loss: 15.6993 - acc: 0.0000e+00\n",
      "Epoch 67/100\n",
      "1918/1918 [==============================] - 0s 76us/step - loss: 15.6993 - acc: 0.0000e+00\n",
      "Epoch 68/100\n",
      "1918/1918 [==============================] - 0s 74us/step - loss: 15.6993 - acc: 0.0000e+00\n",
      "Epoch 69/100\n",
      "1918/1918 [==============================] - 0s 71us/step - loss: 15.6993 - acc: 0.0000e+00\n",
      "Epoch 70/100\n",
      "1918/1918 [==============================] - 0s 70us/step - loss: 15.6993 - acc: 0.0000e+00\n",
      "Epoch 71/100\n",
      "1918/1918 [==============================] - 0s 73us/step - loss: 15.6993 - acc: 0.0000e+00\n",
      "Epoch 72/100\n",
      "1918/1918 [==============================] - 0s 69us/step - loss: 15.6993 - acc: 0.0000e+00\n",
      "Epoch 73/100\n",
      "1918/1918 [==============================] - 0s 69us/step - loss: 15.6993 - acc: 0.0000e+00\n",
      "Epoch 74/100\n",
      "1918/1918 [==============================] - 0s 72us/step - loss: 15.6993 - acc: 0.0000e+00\n",
      "Epoch 75/100\n",
      "1918/1918 [==============================] - 0s 75us/step - loss: 15.6993 - acc: 0.0000e+00\n",
      "Epoch 76/100\n",
      "1918/1918 [==============================] - 0s 70us/step - loss: 15.6993 - acc: 0.0000e+00\n",
      "Epoch 77/100\n",
      "1918/1918 [==============================] - 0s 72us/step - loss: 15.6993 - acc: 0.0000e+00\n",
      "Epoch 78/100\n",
      "1918/1918 [==============================] - 0s 77us/step - loss: 15.6993 - acc: 0.0000e+00\n",
      "Epoch 79/100\n"
     ]
    },
    {
     "name": "stdout",
     "output_type": "stream",
     "text": [
      "1918/1918 [==============================] - 0s 75us/step - loss: 15.6993 - acc: 0.0000e+00\n",
      "Epoch 80/100\n",
      "1664/1918 [=========================>....] - ETA: 0s - loss: 15.5676 - acc: 0.0000e+00"
     ]
    }
   ],
   "source": [
    "estimators = []\n",
    "# estimators.append(('standardize', StandardScaler()))\n",
    "estimators.append(('mlp', KerasClassifier(build_fn=make_model, epochs=100, batch_size=128, verbose=1)))\n",
    "pipeline = Pipeline(estimators)\n",
    "kfold = StratifiedKFold(n_splits=10, shuffle=True)\n",
    "results = cross_val_score(pipeline,dftrain,dftest, cv=kfold)\n",
    "print(\"Results: %.2f%% (%.2f%%)\" % (results.mean()*100, results.std()*100))"
   ]
  },
  {
   "cell_type": "code",
   "execution_count": null,
   "metadata": {
    "colab": {},
    "colab_type": "code",
    "id": "pWu6zuatvvr0"
   },
   "outputs": [],
   "source": [
    "results"
   ]
  },
  {
   "cell_type": "code",
   "execution_count": null,
   "metadata": {},
   "outputs": [],
   "source": []
  }
 ],
 "metadata": {
  "accelerator": "GPU",
  "colab": {
   "name": "emotiondnn.ipynb",
   "provenance": [],
   "version": "0.3.2"
  },
  "kernelspec": {
   "display_name": "Python 3",
   "language": "python",
   "name": "python3"
  },
  "language_info": {
   "codemirror_mode": {
    "name": "ipython",
    "version": 3
   },
   "file_extension": ".py",
   "mimetype": "text/x-python",
   "name": "python",
   "nbconvert_exporter": "python",
   "pygments_lexer": "ipython3",
   "version": "3.6.5"
  }
 },
 "nbformat": 4,
 "nbformat_minor": 1
}
